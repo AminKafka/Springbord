{
 "cells": [
  {
   "cell_type": "code",
   "execution_count": 61,
   "id": "4249b720",
   "metadata": {},
   "outputs": [
    {
     "name": "stdout",
     "output_type": "stream",
     "text": [
      "['Bookings', 'Facilities', 'Members']\n"
     ]
    },
    {
     "name": "stderr",
     "output_type": "stream",
     "text": [
      "<ipython-input-61-2192519397db>:5: SADeprecationWarning: The Engine.table_names() method is deprecated and will be removed in a future release.  Please refer to Inspector.get_table_names(). (deprecated since: 1.4)\n",
      "  print(engine.table_names())\n"
     ]
    }
   ],
   "source": [
    "from sqlalchemy import create_engine\n",
    "import pandas as pd\n",
    "engine = create_engine(\"sqlite:////Users/Amin/Documents/GitHub/Sql_mini_project/sqlite_db_pythonsqlite.db\")\n",
    "con = engine.connect()\n",
    "print(engine.table_names())\n",
    "\n"
   ]
  },
  {
   "cell_type": "code",
   "execution_count": 69,
   "id": "63bdce9f",
   "metadata": {},
   "outputs": [
    {
     "name": "stdout",
     "output_type": "stream",
     "text": [
      "               Revenue\n",
      "name                  \n",
      "Table Tennis     180.0\n",
      "Snooker Table    240.0\n",
      "Pool Table       270.0\n",
      "                 Revenue\n",
      "name                    \n",
      "Badminton Court   1906.5\n",
      "Squash Court     13468.0\n",
      "Tennis Court 1   13860.0\n",
      "Tennis Court 2   14310.0\n",
      "Massage Room 2   14454.6\n",
      "Massage Room 1   50351.6\n"
     ]
    }
   ],
   "source": [
    "#Qestion 10\n",
    "res = con.execute('SELECT f.name,CASE WHEN b.memid = 0 THEN f.guestcost*b.slots ELSE f.membercost*b.slots END AS Revenue FROM Bookings AS b LEFT JOIN Facilities AS f ON b.facid = f.facid')\n",
    "df = pd.DataFrame(res.fetchall())\n",
    "\n",
    "\n",
    "df.columns = res.keys()\n",
    "df = df.groupby('name').sum()\n",
    "df1 = df[df['Revenue']<1000]\n",
    "print(df1.sort_values(by='Revenue'))\n",
    "\n",
    "df2 = df[df['Revenue']>1000]\n",
    "print(df2.sort_values(by='Revenue'))\n"
   ]
  },
  {
   "cell_type": "code",
   "execution_count": 115,
   "id": "91f8c153",
   "metadata": {},
   "outputs": [
    {
     "name": "stdout",
     "output_type": "stream",
     "text": [
      "                     Member        Recommender\n",
      "0               GUEST GUEST                NaN\n",
      "1              Darren Smith                NaN\n",
      "2               Tracy Smith                NaN\n",
      "3                Tim Rownam                NaN\n",
      "4           Janice Joplette       Darren Smith\n",
      "5            Gerald Butters       Darren Smith\n",
      "6              Burton Tracy                NaN\n",
      "7                Nancy Dare    Janice Joplette\n",
      "8                Tim Boothe         Tim Rownam\n",
      "9           Ponder Stibbons       Burton Tracy\n",
      "10             Charles Owen       Darren Smith\n",
      "11              David Jones    Janice Joplette\n",
      "12               Anne Baker    Ponder Stibbons\n",
      "13           Jemima Farrell                NaN\n",
      "14               Jack Smith       Darren Smith\n",
      "15           Florence Bader    Ponder Stibbons\n",
      "16            Timothy Baker     Jemima Farrell\n",
      "17             David Pinker     Jemima Farrell\n",
      "18          Matthew Genting     Gerald Butters\n",
      "19           Anna Mackenzie       Darren Smith\n",
      "20              Joan Coplin      Timothy Baker\n",
      "21         Ramnaresh Sarwin     Florence Bader\n",
      "22            Douglas Jones        David Jones\n",
      "23         Henrietta Rumney    Matthew Genting\n",
      "24            David Farrell                NaN\n",
      "25  Henry Worthington-Smyth        Tracy Smith\n",
      "26        Millicent Purview        Tracy Smith\n",
      "27      Hyacinth Tupperware                NaN\n",
      "28                John Hunt  Millicent Purview\n",
      "29            Erica Crumpet        Tracy Smith\n"
     ]
    }
   ],
   "source": [
    "res1 = con.execute('SELECT DISTINCT m1.firstname as firstname1,m1.surname AS surname1,m2.firstname AS firstname2,m2.surname AS surname2 FROM Members as m1 LEFT JOIN Members as m2 ON m1.recommendedby=m2.memid')\n",
    "name = pd.DataFrame(res1.fetchall())\n",
    "name.columns = res1.keys()\n",
    "name['Member'] = name['firstname1']+' '+name['surname1']\n",
    "name['Recommender'] = name['firstname2']+' '+name['surname2']\n",
    "print(name[['Member','Recommender']])"
   ]
  },
  {
   "cell_type": "code",
   "execution_count": 144,
   "id": "44808daf",
   "metadata": {},
   "outputs": [
    {
     "name": "stdout",
     "output_type": "stream",
     "text": [
      "name\n",
      "Badminton Court    543.0\n",
      "Tennis Court 1     478.5\n",
      "Massage Room 1     442.0\n",
      "Tennis Court 2     441.0\n",
      "Snooker Table      430.0\n",
      "Pool Table         428.0\n",
      "Table Tennis       397.0\n",
      "Squash Court       209.0\n",
      "Massage Room 2      27.0\n",
      "Name: Hourly_Usage, dtype: float64\n"
     ]
    }
   ],
   "source": [
    "res2=con.execute('SELECT f.name,b.slots FROM Bookings as b INNER JOIN Facilities as f on b.facid=f.facid WHERE b.memid>0')\n",
    "usaige = pd.DataFrame(res2.fetchall())\n",
    "usaige.columns=res2.keys()\n",
    "usaige['Hourly_Usage']=usaige['slots']*0.5\n",
    "group= usaige.groupby(['name']).sum()\n",
    "print(group['Hourly_Usage'].sort_values(ascending=False))"
   ]
  },
  {
   "cell_type": "code",
   "execution_count": null,
   "id": "4893c85b",
   "metadata": {},
   "outputs": [],
   "source": []
  }
 ],
 "metadata": {
  "kernelspec": {
   "display_name": "Python 3",
   "language": "python",
   "name": "python3"
  },
  "language_info": {
   "codemirror_mode": {
    "name": "ipython",
    "version": 3
   },
   "file_extension": ".py",
   "mimetype": "text/x-python",
   "name": "python",
   "nbconvert_exporter": "python",
   "pygments_lexer": "ipython3",
   "version": "3.8.8"
  }
 },
 "nbformat": 4,
 "nbformat_minor": 5
}
